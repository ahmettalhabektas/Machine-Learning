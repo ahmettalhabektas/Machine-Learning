{
 "cells": [
  {
   "cell_type": "markdown",
   "metadata": {},
   "source": [
    "Lojistik regresyon, isminde “regresyon” geçmesine rağmen bir sınıflandırma algoritmasıdır. Yani görseldeki hayvanın kedi mi, köpek mi olduğu veya verilmiş olan bilgilerin bir erkeğe mi yoksa bir kadına mı ait olduğunu tahmin etme gibi iki sınıflı sınıflandırma problemlerinde sıkça kullanılır.\n",
    "\n",
    "Lojistik regresyonun, lineer regresyon ile arasındaki en büyük farkı iki sınıfı birbirinden ayıracak çizgiyi nasıl uyguladığıdır (fit). Lineer regresyon, optimum çizgiyi çizmek için “En Küçük Kareler Yöntemi” (Least Squares) kullanırken, lojistik regresyon “Maksimum Olabilirlik” (Maximum Likelihood) kullanır.\n",
    "![Logisticregression](https://miro.medium.com/v2/resize:fit:1400/format:webp/1*FgUTutnPXhx92LqdQVcMcw.jpeg)\n"
   ]
  },
  {
   "cell_type": "markdown",
   "metadata": {},
   "source": [
    "Lojistik regresyon, sınıflandırma yapmak için Sigmoid (Lojistik) Fonksiyonu kullanır. Sigmoid fonksiyonu “S” şeklinde bir eğridir.\n",
    "\n",
    "![](https://miro.medium.com/v2/resize:fit:1400/format:webp/1*NloTSPs4pCMYDZ8G1kxhoQ.png)"
   ]
  },
  {
   "cell_type": "code",
   "execution_count": null,
   "metadata": {},
   "outputs": [],
   "source": [
    "\n",
    "# Gerekli kütüphanelerin içe aktarılması\n",
    "import numpy as np \n",
    "from sklearn.linear_model import LogisticRegression\n",
    "import matplotlib.pyplot as plt\n",
    "import seaborn as sns\n",
    "\n",
    "\n",
    "\n",
    "# X ve y değerlerinin oluşturulması\n",
    "x = np.arange(100).reshape(-1, 1)\n",
    "y = np.array([0]*50 + [1]*50)\n",
    "\n",
    "\n",
    "\n",
    "\n",
    "# Verisetinin train ve test olarak ayrılması\n",
    "from sklearn.model_selection import train_test_split\n",
    "\n",
    "X_train, X_test, y_train, y_test = train_test_split(x,y, test_size =.3)\n",
    "\n",
    "\n",
    "\n",
    "# Modelin eğitilmesi\n",
    "model = LogisticRegression().fit(X_train,y_train)\n",
    "\n",
    "\n",
    "y_pred = model.predict(X_test)\n",
    "\n",
    "\n",
    "\n",
    "# Accuracy score değerinin hesaplanması\n",
    "from sklearn.metrics import accuracy_score\n",
    "\n",
    "print(\"Accucarcy score: \", accuracy_score(y_test,y_pred))\n",
    "\n",
    "\n",
    "# Karmaşıklık matrisinin ısı haritası olarak çizilmesi\n",
    "from sklearn.metrics import confusion_matrix\n",
    "\n",
    "sns.heatmap(confusion_matrix(y_test,y_pred),annot=True)\n",
    "plt.show()"
   ]
  },
  {
   "cell_type": "markdown",
   "metadata": {},
   "source": [
    "Accuracy score: 0.96666…\n",
    "\n",
    "![](https://miro.medium.com/v2/resize:fit:1400/format:webp/1*enFmq7V3pvuNkxnzxZnZbg.png)"
   ]
  },
  {
   "cell_type": "markdown",
   "metadata": {},
   "source": [
    "# Avantajları:\n",
    "* Lojistik regresyonun uygulanması, yorumlanması kolaydır.\n",
    "* Veri seti doğrusal olarak ayrılabiliyorsa oldukça iyi performans gösterir.\n",
    "* Overfitting’e daha az meyillidir ama büyük veri setlerinde overfit olabilir.\n"
   ]
  },
  {
   "cell_type": "markdown",
   "metadata": {},
   "source": [
    "# Dezavantajları:\n",
    "* Gözlem sayısı özellik sayısından azsa, Lojistik Regresyon kullanılmamalıdır, aksi takdirde overfit olabilir.\n",
    "* Lojistik regresyonun ayrım yapabilmesi için veri setinin doğrusal olarak ayrılabiliyor olması lazım."
   ]
  },
  {
   "cell_type": "markdown",
   "metadata": {},
   "source": [
    "<div style=\"text-align:center;\">\n",
    "  <p><strong>Yazar:</strong> <a href=\"https://www.linkedin.com/in/ahmet-tazeg%C3%BCl-66b3a11b4/\" target=\"_blank\">Ahmet Yasin Tazegül</a></p>\n",
    "  <img src=\"https://static.wixstatic.com/media/3ef854_11e098a45f1c4895a579489e193fd160~mv2.png/v1/fill/w_771,h_771,al_c,q_90,usm_0.66_1.00_0.01,enc_auto/3ef854_11e098a45f1c4895a579489e193fd160~mv2.png\" alt=\"ITU VBK Logo\">\n",
    "  <a href=\"https://www.ituvbk.com/\" target=\"_blank\">İTÜ VBK</a>\n",
    "</div>\n"
   ]
  }
 ],
 "metadata": {
  "kaggle": {
   "accelerator": "none",
   "dataSources": [],
   "dockerImageVersionId": 30587,
   "isGpuEnabled": false,
   "isInternetEnabled": true,
   "language": "python",
   "sourceType": "notebook"
  },
  "kernelspec": {
   "display_name": "Python 3 (ipykernel)",
   "language": "python",
   "name": "python3"
  },
  "language_info": {
   "codemirror_mode": {
    "name": "ipython",
    "version": 3
   },
   "file_extension": ".py",
   "mimetype": "text/x-python",
   "name": "python",
   "nbconvert_exporter": "python",
   "pygments_lexer": "ipython3",
   "version": "3.10.13"
  }
 },
 "nbformat": 4,
 "nbformat_minor": 4
}
